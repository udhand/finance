{
 "cells": [
  {
   "cell_type": "code",
   "execution_count": 1,
   "metadata": {},
   "outputs": [],
   "source": [
    "import selenium\n",
    "from selenium import webdriver\n",
    "import pandas as pd\n",
    "import time"
   ]
  },
  {
   "cell_type": "code",
   "execution_count": 25,
   "metadata": {},
   "outputs": [],
   "source": [
    "driver = webdriver.Chrome()\n"
   ]
  },
  {
   "cell_type": "code",
   "execution_count": 4,
   "metadata": {},
   "outputs": [],
   "source": [
    "from selenium.webdriver.common.by import By\n",
    "#TITLE = driver.find_element(By.XPATH, xpath)\n",
    "\n",
    "from selenium.webdriver.support.ui import WebDriverWait\n",
    "from selenium.webdriver.support import expected_conditions as EC"
   ]
  },
  {
   "cell_type": "code",
   "execution_count": 9,
   "metadata": {},
   "outputs": [
    {
     "name": "stdout",
     "output_type": "stream",
     "text": [
      "Element with XPath: //*[@id=\"integration-id-fcc63aa\"]/div[1]/div[3]/div[2]/div[2]/div[1]/table/tbody/tr[6]/td[2] not found\n"
     ]
    },
    {
     "ename": "NoSuchElementException",
     "evalue": "Message: no such element: Unable to locate element: {\"method\":\"xpath\",\"selector\":\"//*[@id=\"integration-id-fcc63aa\"]/div[1]/div[3]/div[2]/div[2]/div[2]/div/ul/li[8]/a\"}\n  (Session info: chrome=115.0.5790.170); For documentation on this error, please visit: https://www.selenium.dev/documentation/webdriver/troubleshooting/errors#no-such-element-exception\nStacktrace:\n0   chromedriver                        0x0000000100556a6c chromedriver + 4303468\n1   chromedriver                        0x000000010054f198 chromedriver + 4272536\n2   chromedriver                        0x0000000100183594 chromedriver + 292244\n3   chromedriver                        0x00000001001c08fc chromedriver + 542972\n4   chromedriver                        0x00000001001f9628 chromedriver + 775720\n5   chromedriver                        0x00000001001b4b40 chromedriver + 494400\n6   chromedriver                        0x00000001001b5988 chromedriver + 498056\n7   chromedriver                        0x0000000100517924 chromedriver + 4045092\n8   chromedriver                        0x000000010051be68 chromedriver + 4062824\n9   chromedriver                        0x0000000100522088 chromedriver + 4087944\n10  chromedriver                        0x000000010051c96c chromedriver + 4065644\n11  chromedriver                        0x00000001004f4e64 chromedriver + 3903076\n12  chromedriver                        0x000000010053855c chromedriver + 4179292\n13  chromedriver                        0x00000001005386b4 chromedriver + 4179636\n14  chromedriver                        0x0000000100548978 chromedriver + 4245880\n15  libsystem_pthread.dylib             0x000000019dfa3fa8 _pthread_start + 148\n16  libsystem_pthread.dylib             0x000000019df9eda0 thread_start + 8\n",
     "output_type": "error",
     "traceback": [
      "\u001b[0;31m---------------------------------------------------------------------------\u001b[0m",
      "\u001b[0;31mNoSuchElementException\u001b[0m                    Traceback (most recent call last)",
      "\u001b[1;32m/Users/uditdhand/Documents/Personal Projects/finance/scrape_tickers.ipynb Cell 4\u001b[0m line \u001b[0;36m3\n\u001b[1;32m     <a href='vscode-notebook-cell:/Users/uditdhand/Documents/Personal%20Projects/finance/scrape_tickers.ipynb#W4sZmlsZQ%3D%3D?line=26'>27</a>\u001b[0m \u001b[39mexcept\u001b[39;00m:\n\u001b[1;32m     <a href='vscode-notebook-cell:/Users/uditdhand/Documents/Personal%20Projects/finance/scrape_tickers.ipynb#W4sZmlsZQ%3D%3D?line=27'>28</a>\u001b[0m     \u001b[39mprint\u001b[39m(\u001b[39mf\u001b[39m\u001b[39m\"\u001b[39m\u001b[39mElement with XPath: \u001b[39m\u001b[39m{\u001b[39;00mxpath_name\u001b[39m}\u001b[39;00m\u001b[39m not found\u001b[39m\u001b[39m\"\u001b[39m)\n\u001b[0;32m---> <a href='vscode-notebook-cell:/Users/uditdhand/Documents/Personal%20Projects/finance/scrape_tickers.ipynb#W4sZmlsZQ%3D%3D?line=29'>30</a>\u001b[0m next_button \u001b[39m=\u001b[39m driver\u001b[39m.\u001b[39;49mfind_element(By\u001b[39m.\u001b[39;49mXPATH, xp_next)\n\u001b[1;32m     <a href='vscode-notebook-cell:/Users/uditdhand/Documents/Personal%20Projects/finance/scrape_tickers.ipynb#W4sZmlsZQ%3D%3D?line=30'>31</a>\u001b[0m next_button\u001b[39m.\u001b[39mclick()\n",
      "File \u001b[0;32m~/anaconda3/lib/python3.10/site-packages/selenium/webdriver/remote/webdriver.py:738\u001b[0m, in \u001b[0;36mWebDriver.find_element\u001b[0;34m(self, by, value)\u001b[0m\n\u001b[1;32m    735\u001b[0m     by \u001b[39m=\u001b[39m By\u001b[39m.\u001b[39mCSS_SELECTOR\n\u001b[1;32m    736\u001b[0m     value \u001b[39m=\u001b[39m \u001b[39mf\u001b[39m\u001b[39m'\u001b[39m\u001b[39m[name=\u001b[39m\u001b[39m\"\u001b[39m\u001b[39m{\u001b[39;00mvalue\u001b[39m}\u001b[39;00m\u001b[39m\"\u001b[39m\u001b[39m]\u001b[39m\u001b[39m'\u001b[39m\n\u001b[0;32m--> 738\u001b[0m \u001b[39mreturn\u001b[39;00m \u001b[39mself\u001b[39;49m\u001b[39m.\u001b[39;49mexecute(Command\u001b[39m.\u001b[39;49mFIND_ELEMENT, {\u001b[39m\"\u001b[39;49m\u001b[39musing\u001b[39;49m\u001b[39m\"\u001b[39;49m: by, \u001b[39m\"\u001b[39;49m\u001b[39mvalue\u001b[39;49m\u001b[39m\"\u001b[39;49m: value})[\u001b[39m\"\u001b[39m\u001b[39mvalue\u001b[39m\u001b[39m\"\u001b[39m]\n",
      "File \u001b[0;32m~/anaconda3/lib/python3.10/site-packages/selenium/webdriver/remote/webdriver.py:344\u001b[0m, in \u001b[0;36mWebDriver.execute\u001b[0;34m(self, driver_command, params)\u001b[0m\n\u001b[1;32m    342\u001b[0m response \u001b[39m=\u001b[39m \u001b[39mself\u001b[39m\u001b[39m.\u001b[39mcommand_executor\u001b[39m.\u001b[39mexecute(driver_command, params)\n\u001b[1;32m    343\u001b[0m \u001b[39mif\u001b[39;00m response:\n\u001b[0;32m--> 344\u001b[0m     \u001b[39mself\u001b[39;49m\u001b[39m.\u001b[39;49merror_handler\u001b[39m.\u001b[39;49mcheck_response(response)\n\u001b[1;32m    345\u001b[0m     response[\u001b[39m\"\u001b[39m\u001b[39mvalue\u001b[39m\u001b[39m\"\u001b[39m] \u001b[39m=\u001b[39m \u001b[39mself\u001b[39m\u001b[39m.\u001b[39m_unwrap_value(response\u001b[39m.\u001b[39mget(\u001b[39m\"\u001b[39m\u001b[39mvalue\u001b[39m\u001b[39m\"\u001b[39m, \u001b[39mNone\u001b[39;00m))\n\u001b[1;32m    346\u001b[0m     \u001b[39mreturn\u001b[39;00m response\n",
      "File \u001b[0;32m~/anaconda3/lib/python3.10/site-packages/selenium/webdriver/remote/errorhandler.py:229\u001b[0m, in \u001b[0;36mErrorHandler.check_response\u001b[0;34m(self, response)\u001b[0m\n\u001b[1;32m    227\u001b[0m         alert_text \u001b[39m=\u001b[39m value[\u001b[39m\"\u001b[39m\u001b[39malert\u001b[39m\u001b[39m\"\u001b[39m]\u001b[39m.\u001b[39mget(\u001b[39m\"\u001b[39m\u001b[39mtext\u001b[39m\u001b[39m\"\u001b[39m)\n\u001b[1;32m    228\u001b[0m     \u001b[39mraise\u001b[39;00m exception_class(message, screen, stacktrace, alert_text)  \u001b[39m# type: ignore[call-arg]  # mypy is not smart enough here\u001b[39;00m\n\u001b[0;32m--> 229\u001b[0m \u001b[39mraise\u001b[39;00m exception_class(message, screen, stacktrace)\n",
      "\u001b[0;31mNoSuchElementException\u001b[0m: Message: no such element: Unable to locate element: {\"method\":\"xpath\",\"selector\":\"//*[@id=\"integration-id-fcc63aa\"]/div[1]/div[3]/div[2]/div[2]/div[2]/div/ul/li[8]/a\"}\n  (Session info: chrome=115.0.5790.170); For documentation on this error, please visit: https://www.selenium.dev/documentation/webdriver/troubleshooting/errors#no-such-element-exception\nStacktrace:\n0   chromedriver                        0x0000000100556a6c chromedriver + 4303468\n1   chromedriver                        0x000000010054f198 chromedriver + 4272536\n2   chromedriver                        0x0000000100183594 chromedriver + 292244\n3   chromedriver                        0x00000001001c08fc chromedriver + 542972\n4   chromedriver                        0x00000001001f9628 chromedriver + 775720\n5   chromedriver                        0x00000001001b4b40 chromedriver + 494400\n6   chromedriver                        0x00000001001b5988 chromedriver + 498056\n7   chromedriver                        0x0000000100517924 chromedriver + 4045092\n8   chromedriver                        0x000000010051be68 chromedriver + 4062824\n9   chromedriver                        0x0000000100522088 chromedriver + 4087944\n10  chromedriver                        0x000000010051c96c chromedriver + 4065644\n11  chromedriver                        0x00000001004f4e64 chromedriver + 3903076\n12  chromedriver                        0x000000010053855c chromedriver + 4179292\n13  chromedriver                        0x00000001005386b4 chromedriver + 4179636\n14  chromedriver                        0x0000000100548978 chromedriver + 4245880\n15  libsystem_pthread.dylib             0x000000019dfa3fa8 _pthread_start + 148\n16  libsystem_pthread.dylib             0x000000019df9eda0 thread_start + 8\n"
     ]
    }
   ],
   "source": [
    "url = 'https://www.nyse.com/listings_directory/stock'\n",
    "xp_next = '//*[@id=\"integration-id-fcc63aa\"]/div[1]/div[3]/div[2]/div[2]/div[2]/div/ul/li[8]/a'\n",
    "\n",
    "driver.get(url)\n",
    "time.sleep(2)\n",
    "\n",
    "ticker_l = []\n",
    "name_l = []\n",
    "\n",
    "for i in range (734):\n",
    "    for i in range(1,9,1):\n",
    "        xpath_name = '//*[@id=\"integration-id-fcc63aa\"]/div[1]/div[3]/div[2]/div[2]/div[1]/table/tbody/tr['+str(i)+']/td[2]'\n",
    "        xpath_ticker = '//*[@id=\"integration-id-fcc63aa\"]/div[1]/div[3]/div[2]/div[2]/div[1]/table/tbody/tr['+str(i)+']/td[1]/a'\n",
    "\n",
    "        try:\n",
    "            name = WebDriverWait(driver, 10).until(\n",
    "                EC.presence_of_element_located((By.XPATH, xpath_name))\n",
    "            )\n",
    "\n",
    "            ticker = WebDriverWait(driver, 10).until(\n",
    "                EC.presence_of_element_located((By.XPATH, xpath_ticker))\n",
    "            )\n",
    "\n",
    "            ticker_l.append(ticker.text)\n",
    "            name_l.append(name.text)\n",
    "\n",
    "        except:\n",
    "            print(f\"Element with XPath: {xpath_name} not found\")\n",
    "        \n",
    "        next_button = driver.find_element(By.XPATH, xp_next)\n",
    "        next_button.click()"
   ]
  },
  {
   "cell_type": "code",
   "execution_count": 15,
   "metadata": {},
   "outputs": [],
   "source": [
    "df = pd.DataFrame(name_l,ticker_l)"
   ]
  },
  {
   "cell_type": "code",
   "execution_count": 17,
   "metadata": {},
   "outputs": [],
   "source": [
    "df.to_csv('tickers.csv')"
   ]
  },
  {
   "cell_type": "code",
   "execution_count": null,
   "metadata": {},
   "outputs": [],
   "source": []
  }
 ],
 "metadata": {
  "kernelspec": {
   "display_name": "base",
   "language": "python",
   "name": "python3"
  },
  "language_info": {
   "codemirror_mode": {
    "name": "ipython",
    "version": 3
   },
   "file_extension": ".py",
   "mimetype": "text/x-python",
   "name": "python",
   "nbconvert_exporter": "python",
   "pygments_lexer": "ipython3",
   "version": "3.10.9"
  },
  "orig_nbformat": 4
 },
 "nbformat": 4,
 "nbformat_minor": 2
}
